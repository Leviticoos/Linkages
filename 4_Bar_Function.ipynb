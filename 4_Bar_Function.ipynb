{
 "cells": [
  {
   "cell_type": "code",
   "execution_count": 14,
   "metadata": {},
   "outputs": [
    {
     "ename": "TypeError",
     "evalue": "can't convert complex to float",
     "output_type": "error",
     "traceback": [
      "\u001b[1;31m---------------------------------------------------------------------------\u001b[0m",
      "\u001b[1;31mTypeError\u001b[0m                                 Traceback (most recent call last)",
      "\u001b[1;32m<ipython-input-14-577f6da1ac0b>\u001b[0m in \u001b[0;36m<module>\u001b[1;34m\u001b[0m\n\u001b[0;32m     58\u001b[0m     \u001b[1;31m# compute loop eq with t2 substituted\u001b[0m\u001b[1;33m\u001b[0m\u001b[1;33m\u001b[0m\u001b[1;33m\u001b[0m\u001b[0m\n\u001b[0;32m     59\u001b[0m     \u001b[0meqn\u001b[0m \u001b[1;33m=\u001b[0m \u001b[0mr\u001b[0m\u001b[1;33m[\u001b[0m\u001b[1;36m0\u001b[0m\u001b[1;33m]\u001b[0m \u001b[1;33m+\u001b[0m \u001b[0mr\u001b[0m\u001b[1;33m[\u001b[0m\u001b[1;36m1\u001b[0m\u001b[1;33m]\u001b[0m \u001b[1;33m+\u001b[0m \u001b[0mr\u001b[0m\u001b[1;33m[\u001b[0m\u001b[1;36m2\u001b[0m\u001b[1;33m]\u001b[0m \u001b[1;33m-\u001b[0m \u001b[0mg\u001b[0m\u001b[1;33m[\u001b[0m\u001b[1;36m1\u001b[0m\u001b[1;33m]\u001b[0m\u001b[1;33m\u001b[0m\u001b[1;33m\u001b[0m\u001b[0m\n\u001b[1;32m---> 60\u001b[1;33m     \u001b[0meqn2\u001b[0m \u001b[1;33m=\u001b[0m \u001b[0meqn\u001b[0m\u001b[1;33m.\u001b[0m\u001b[0msubs\u001b[0m\u001b[1;33m(\u001b[0m\u001b[0mfuncVar\u001b[0m\u001b[1;33m,\u001b[0m\u001b[1;33m(\u001b[0m\u001b[0mradians\u001b[0m\u001b[1;33m(\u001b[0m\u001b[0mlog\u001b[0m\u001b[1;33m(\u001b[0m\u001b[0mu\u001b[0m\u001b[1;33m)\u001b[0m\u001b[1;33m)\u001b[0m\u001b[1;33m)\u001b[0m\u001b[1;33m)\u001b[0m\u001b[1;33m\u001b[0m\u001b[1;33m\u001b[0m\u001b[0m\n\u001b[0m\u001b[0;32m     61\u001b[0m     \u001b[0mequations\u001b[0m\u001b[1;33m.\u001b[0m\u001b[0mappend\u001b[0m\u001b[1;33m(\u001b[0m\u001b[0meqn2\u001b[0m\u001b[1;33m.\u001b[0m\u001b[0msubs\u001b[0m\u001b[1;33m(\u001b[0m\u001b[0minputVar\u001b[0m\u001b[1;33m,\u001b[0m\u001b[0mradians\u001b[0m\u001b[1;33m(\u001b[0m\u001b[0mu\u001b[0m\u001b[1;33m)\u001b[0m\u001b[1;33m)\u001b[0m\u001b[1;33m)\u001b[0m\u001b[1;33m\u001b[0m\u001b[1;33m\u001b[0m\u001b[0m\n\u001b[0;32m     62\u001b[0m \u001b[0mprint\u001b[0m\u001b[1;33m(\u001b[0m\u001b[0mstr\u001b[0m\u001b[1;33m(\u001b[0m\u001b[0mequations\u001b[0m\u001b[1;33m)\u001b[0m\u001b[1;33m)\u001b[0m\u001b[1;33m\u001b[0m\u001b[1;33m\u001b[0m\u001b[0m\n",
      "\u001b[1;32mc:\\Users\\LeviR\\Anaconda3\\lib\\site-packages\\sympy\\core\\expr.py\u001b[0m in \u001b[0;36m__float__\u001b[1;34m(self)\u001b[0m\n\u001b[0;32m    277\u001b[0m             \u001b[1;32mreturn\u001b[0m \u001b[0mfloat\u001b[0m\u001b[1;33m(\u001b[0m\u001b[0mresult\u001b[0m\u001b[1;33m)\u001b[0m\u001b[1;33m\u001b[0m\u001b[1;33m\u001b[0m\u001b[0m\n\u001b[0;32m    278\u001b[0m         \u001b[1;32mif\u001b[0m \u001b[0mresult\u001b[0m\u001b[1;33m.\u001b[0m\u001b[0mis_number\u001b[0m \u001b[1;32mand\u001b[0m \u001b[0mresult\u001b[0m\u001b[1;33m.\u001b[0m\u001b[0mas_real_imag\u001b[0m\u001b[1;33m(\u001b[0m\u001b[1;33m)\u001b[0m\u001b[1;33m[\u001b[0m\u001b[1;36m1\u001b[0m\u001b[1;33m]\u001b[0m\u001b[1;33m:\u001b[0m\u001b[1;33m\u001b[0m\u001b[1;33m\u001b[0m\u001b[0m\n\u001b[1;32m--> 279\u001b[1;33m             \u001b[1;32mraise\u001b[0m \u001b[0mTypeError\u001b[0m\u001b[1;33m(\u001b[0m\u001b[1;34m\"can't convert complex to float\"\u001b[0m\u001b[1;33m)\u001b[0m\u001b[1;33m\u001b[0m\u001b[1;33m\u001b[0m\u001b[0m\n\u001b[0m\u001b[0;32m    280\u001b[0m         \u001b[1;32mraise\u001b[0m \u001b[0mTypeError\u001b[0m\u001b[1;33m(\u001b[0m\u001b[1;34m\"can't convert expression to float\"\u001b[0m\u001b[1;33m)\u001b[0m\u001b[1;33m\u001b[0m\u001b[1;33m\u001b[0m\u001b[0m\n\u001b[0;32m    281\u001b[0m \u001b[1;33m\u001b[0m\u001b[0m\n",
      "\u001b[1;31mTypeError\u001b[0m: can't convert complex to float"
     ]
    }
   ],
   "source": [
    "#This linkage simulation script is made by Leviticus Rhoden, build off of Mark Gartner's Base\n",
    "#Linkages Graphics 2.1\n",
    "\n",
    "#%matplotlib notebook\n",
    "# this command tells notebook to display plots in the notebook\n",
    "from math import *\n",
    "from sympy import *\n",
    "import numpy as np\n",
    "\n",
    "from graphics import *\n",
    "import matplotlib.pyplot as plt\n",
    "\n",
    "#graphics screen window and screen coordinates\n",
    "win = GraphWin(\"Linkages\",1500,1000)\n",
    "win.setCoords(-100,-50,200,150)\n",
    "\n",
    "#set up all the variables and vectors\n",
    "#Set up unknowns, \n",
    "l0, l1, l2, gl1, t0, t1, t2, gt1 = symbols(\"l0 l1 l2 gl0 t0 t1 t2 gt0\", real=True)\n",
    "unkown = [l0, l1, l2, gl1, t1, gt1]\n",
    "inputVar = t0\n",
    "funcVar = t2\n",
    "k, u = symbols(\"k u\", real = True)\n",
    "function = log(k*u)\n",
    "\n",
    "#setup ground points\n",
    "g = []\n",
    "g.append(0*exp(I*0*t1))\n",
    "g.append(gl1*exp(I*gt1))\n",
    "\n",
    "#set up linkage equations\n",
    "r = []\n",
    "r.append(l0*exp(I*t0))\n",
    "r.append(l1*exp(I*t1))\n",
    "r.append(l2*exp(I*t2))\n",
    "\n",
    "#set up static Graphics (Ground, special areas etc.)\n",
    "\n",
    "\n",
    "#create graphics points for the ground pivots\n",
    "#goA = Point(0,0)\n",
    "#goB = Point(re(r1),im(r1))\n",
    "\n",
    "#write out the equations for linkage (looks just like what we put on the board)\n",
    "\n",
    "\n",
    "#Initial Guess\n",
    "#This guess should be good for the starting angles. Then the solved angles will be used to seed next loop\n",
    "guess = (radians(40), radians(90), radians(40), radians(-115))\n",
    "\n",
    "\n",
    "#i is start angle, step is degrees change every time\n",
    "input = [0,15,30,45]\n",
    "step = 5\n",
    "\n",
    "equations = []\n",
    "for u in input:\n",
    "    # compute loop eq with t2 substituted \n",
    "    eqn = r[0] + r[1] + r[2] - g[1]\n",
    "    eqn2 = eqn.subs(funcVar,(radians(log(u))))\n",
    "    equations.append(eqn2.subs(inputVar,radians(u)))\n",
    "print(str(equations))\n"
   ]
  },
  {
   "cell_type": "code",
   "execution_count": null,
   "metadata": {},
   "outputs": [],
   "source": []
  }
 ],
 "metadata": {
  "kernelspec": {
   "display_name": "VPython",
   "language": "python",
   "name": "vpython"
  },
  "language_info": {
   "codemirror_mode": {
    "name": "ipython",
    "version": 3
   },
   "file_extension": ".py",
   "mimetype": "text/x-python",
   "name": "python",
   "nbconvert_exporter": "python",
   "pygments_lexer": "ipython3",
   "version": "3.7.3"
  },
  "vscode": {
   "interpreter": {
    "hash": "5a867cb6072ec286aec37eac12d953b99a76ced8b800be47bde5e1c122626690"
   }
  }
 },
 "nbformat": 4,
 "nbformat_minor": 1
}
