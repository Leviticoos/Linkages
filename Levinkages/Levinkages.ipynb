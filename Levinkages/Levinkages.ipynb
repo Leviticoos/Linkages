{
 "cells": [
  {
   "cell_type": "code",
   "execution_count": null,
   "metadata": {},
   "outputs": [],
   "source": [
    "from math import *\n",
    "from sympy import *\n",
    "import numpy as np \n",
    "\n",
    "from graphics import *\n",
    "\n",
    "t0, t1, t2, t3, t4, t5, t6 = symbols(\"t0 t1 t2 t3 t4 t5 t6\", real=True)\n",
    "unkown = [t3, t5]\n",
    "inputVar = t1"
   ]
  },
  {
   "cell_type": "code",
   "execution_count": null,
   "metadata": {},
   "outputs": [],
   "source": [
    "#Defining useful object classes\n",
    "class Linkage:\n",
    "    def __init__(self, lVector, eqVector, gVector, symbVector):\n",
    "        self.g = gVector\n",
    "        self.symb = symbVector  #first in is the input\n",
    "        r = []\n",
    "        for i in range(0,lVector,1):\n",
    "            self.r.append(lVector[i]*exp(I*self.symb[i]))\n",
    "        self.equations = eqVector\n",
    "          \n",
    "        eq = []\n",
    "        for n in range(0,len(self.equations),1):\n",
    "            eq.append(re(self.equations[n]))\n",
    "            eq.append(im(self.equations[n])) \n",
    "\n",
    "    def __str__(self):\n",
    "        #TODO make a good output string\n",
    "        return  \n",
    "\n",
    "    def getLink(self):\n",
    "        return self.r, self.eq, self.symb\n",
    "\n",
    "    def atAngle():\n",
    "    "
   ]
  },
  {
   "cell_type": "code",
   "execution_count": null,
   "metadata": {},
   "outputs": [],
   "source": [
    "def fourBarMaker(g0, g1, l0, l1, l2):\n",
    "    rVector = [l0, l1, l2]\n",
    "    eqVector = []\n",
    "    symb = symbols(('t0:2'))\n",
    "\n",
    "    return Linkage()\n"
   ]
  },
  {
   "cell_type": "code",
   "execution_count": null,
   "metadata": {},
   "outputs": [],
   "source": [
    "\n",
    "testLink = Linkage( )\n"
   ]
  }
 ],
 "metadata": {
  "kernelspec": {
   "display_name": "base",
   "language": "python",
   "name": "python3"
  },
  "language_info": {
   "name": "python",
   "version": "3.9.13"
  },
  "orig_nbformat": 4,
  "vscode": {
   "interpreter": {
    "hash": "5f5edc4f5db44bd65f8b705866183564d1fe7721a5c6e8cb4708fb41b10eb4ab"
   }
  }
 },
 "nbformat": 4,
 "nbformat_minor": 2
}
