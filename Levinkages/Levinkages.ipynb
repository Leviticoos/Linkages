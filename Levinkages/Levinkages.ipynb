{
 "cells": [
  {
   "cell_type": "code",
   "execution_count": 48,
   "metadata": {},
   "outputs": [],
   "source": [
    "from math import *\n",
    "from sympy import *\n",
    "import numpy as np \n",
    "\n",
    "from graphics import *\n",
    "\n",
    "t0, t1, t2, t3, t4, t5, t6 = symbols(\"t0 t1 t2 t3 t4 t5 t6\", real=True)\n",
    "unkown = [t3, t5]\n",
    "inputVar = t1"
   ]
  },
  {
   "cell_type": "code",
   "execution_count": 49,
   "metadata": {},
   "outputs": [],
   "source": [
    "#Defining useful object classes\n",
    "class Linkage:\n",
    "    '''The class linkage is meant to be a general object, capable of defining a whole linkage system to be simulated, displayed, or \n",
    "    manipulated, as well as interfacing with programs such as Mark Ganters ME460 code.\n",
    "    ALL IN IMAGINARY TERMS\n",
    "    INPUTS:\n",
    "    -lVector, list of link lengths, or a symbolic variable if it's a slider (I.H.K.H.)\n",
    "    -tVector, list of link angles, from the overall co-ord system. Again, can be values in radians or symbolic variables\n",
    "    -gVector, list of ground points\n",
    "    -eqMatrix, matrix to be multiplied by r + g vector to get defining equations\n",
    "\n",
    "    OUTPUTS:\n",
    "    -One shiny linkage object\n",
    "    '''\n",
    "    def __init__(self, lVector, tVector, gVector, eqMatrix):\n",
    "        #pass ground points into object\n",
    "        self.g = gVector\n",
    "\n",
    "        #construct r, linkage vectors, from l's and t's\n",
    "        self.r = []\n",
    "        for i in range(0,len(lVector),1):\n",
    "            self.r.append(lVector[i]*exp(I*tVector[i]))\n",
    "\n",
    "        #define v, list of all linkage vectors and ground vectors\n",
    "        self.v = self.r\n",
    "        for i in self.g:\n",
    "            self.v.append(i)\n",
    "\n",
    "        #My hot & sexy code to get linkage system equations MIGHT NEED TO MAKE NP ARRAYS\n",
    "    \n",
    "        self.equations = np.array(eqMatrix).dot(self.v)\n",
    "        \n",
    "        #split the equations into real and imaginary components, to get twice as many equations!\n",
    "        self.eq = []\n",
    "        for n in range(0,len(self.equations),1):\n",
    "            self.eq.append(re(self.equations[n]))\n",
    "            self.eq.append(im(self.equations[n])) \n",
    "\n",
    "    def __str__(self):\n",
    "        #TODO make a good output string\n",
    "        readOut = str(self.v)\n",
    "        return readOut\n",
    "\n",
    "    def getLink(self):\n",
    "        return self.r, self.eq, self.symb\n",
    "\n",
    "    def atAngle():\n",
    "        return 0"
   ]
  },
  {
   "cell_type": "code",
   "execution_count": 50,
   "metadata": {},
   "outputs": [],
   "source": [
    "def fourBarGen(g0, g1, l0, l1, l2):\n",
    "    lVector = [l0, l1, l2]\n",
    "    eqVector = []\n",
    "    symb = symbols(('t0:3'))\n",
    "    print(symb)\n",
    "    eqMatrix = [[1,1,1,1,-1]]\n",
    "\n",
    "    return Linkage(lVector, symb, (g0,g1), eqMatrix)\n"
   ]
  },
  {
   "cell_type": "code",
   "execution_count": 51,
   "metadata": {},
   "outputs": [
    {
     "name": "stdout",
     "output_type": "stream",
     "text": [
      "(t0, t1, t2)\n",
      "[exp(I*t0), 2*exp(I*t1), exp(I*t2), 0, 0]\n"
     ]
    }
   ],
   "source": [
    "\n",
    "testLink = fourBarGen(0,0,1,2,1)\n",
    "print(testLink)"
   ]
  }
 ],
 "metadata": {
  "kernelspec": {
   "display_name": "VPython",
   "language": "python",
   "name": "vpython"
  },
  "language_info": {
   "codemirror_mode": {
    "name": "ipython",
    "version": 3
   },
   "file_extension": ".py",
   "mimetype": "text/x-python",
   "name": "python",
   "nbconvert_exporter": "python",
   "pygments_lexer": "ipython3",
   "version": "3.7.3"
  },
  "orig_nbformat": 4,
  "vscode": {
   "interpreter": {
    "hash": "5a867cb6072ec286aec37eac12d953b99a76ced8b800be47bde5e1c122626690"
   }
  }
 },
 "nbformat": 4,
 "nbformat_minor": 2
}
