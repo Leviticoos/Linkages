{
 "cells": [
  {
   "cell_type": "code",
   "execution_count": null,
   "metadata": {},
   "outputs": [],
   "source": [
    "# solve a simple 3 vector problem\n",
    "from math import *\n",
    "from sympy import *\n",
    "\n",
    "t1, t2 = symbols(\"t1 t2\", real=True)\n",
    "\n",
    "eq = 2*exp(I*t1)-2*exp(I*t2)-3\n",
    "ans = nsolve((re(eq),im(eq)), (t1, t2), (0.4,2),tol=1.0e-3,verify=True ,verbose = 1)\n",
    "print(\"ans=\",ans)"
   ]
  },
  {
   "cell_type": "code",
   "execution_count": null,
   "metadata": {},
   "outputs": [],
   "source": [
    "# print the answer out in degrees\n",
    "print(degrees(ans[0]),degrees(ans[1]))"
   ]
  },
  {
   "cell_type": "code",
   "execution_count": null,
   "metadata": {},
   "outputs": [],
   "source": [
    "# substitute the first answer for t1 and the second answer for t1 and evaluate the expression as a real\n",
    "# the expression should have a value close to zero\n",
    "\n",
    "print(abs(eq.evalf(subs={t1:ans[0],t2:ans[1]})))"
   ]
  },
  {
   "cell_type": "code",
   "execution_count": null,
   "metadata": {},
   "outputs": [],
   "source": [
    "%matplotlib notebook\n",
    "# this command tells notebook to display plots in the notebook"
   ]
  },
  {
   "cell_type": "code",
   "execution_count": null,
   "metadata": {},
   "outputs": [],
   "source": [
    "# import numpy which is one of the main numerical libraries along with matplotlib.\n",
    "import numpy as np\n",
    "import matplotlib.pyplot as plt\n",
    "\n",
    "# generate an array of evenly spaced numbers\n",
    "# you can use numpy.arrange or nuympy.linspace\n",
    "#x = np.arange(0, 5, 0.1)\n",
    "x = np.linspace(0, 5, num=50)\n",
    "y = np.sin(x)**2\n",
    "plt.plot(x, y)\n",
    "plt.show()"
   ]
  },
  {
   "cell_type": "code",
   "execution_count": 4,
   "metadata": {},
   "outputs": [
    {
     "name": "stdout",
     "output_type": "stream",
     "text": [
      "6*exp(I*t3) - 6*exp(I*t4) - 4 + 2*exp(2.26892802759263*I)\n",
      "46.538606566464864 101.13160830451329\n",
      "1.76569513535007e-6\n"
     ]
    }
   ],
   "source": [
    "# solve a simple four bar\n",
    "\n",
    "from math import *\n",
    "from sympy import *\n",
    "\n",
    "t3, t4 = symbols(\"t3 t4\", real=True)\n",
    "t2 = radians(130)\n",
    "\n",
    "#set the values of the vectors\n",
    "r1 = 4*exp(I*0)\n",
    "r2 = 2*exp(I*t2)\n",
    "r3 = 6*exp(I*t3)\n",
    "r4 = 6*exp(I*t4)\n",
    "\n",
    "#t2 = radians(130)\n",
    "\n",
    "#eq = r2*exp(I*t2)+r3*exp(I*t3)-r4*exp(I*t4)-r1\n",
    "eq = r2+r3-r4-r1\n",
    "print(eq)\n",
    "\n",
    "ans = nsolve((re(eq),im(eq)), (t3, t4), (0.7,1.2), tol=1.e-3)\n",
    "\n",
    "# print the solutions in degrees.\n",
    "print (degrees(ans[0]),degrees(ans[1]))\n",
    "\n",
    "print(abs(eq.evalf(subs={t3:ans[0],t4:ans[1]})))"
   ]
  },
  {
   "cell_type": "code",
   "execution_count": null,
   "metadata": {},
   "outputs": [],
   "source": []
  }
 ],
 "metadata": {
  "kernelspec": {
   "display_name": "VPython",
   "language": "python",
   "name": "vpython"
  },
  "language_info": {
   "codemirror_mode": {
    "name": "ipython",
    "version": 3
   },
   "file_extension": ".py",
   "mimetype": "text/x-python",
   "name": "python",
   "nbconvert_exporter": "python",
   "pygments_lexer": "ipython3",
   "version": "3.7.3 (default, Apr 24 2019, 15:29:51) [MSC v.1915 64 bit (AMD64)]"
  },
  "vscode": {
   "interpreter": {
    "hash": "5a867cb6072ec286aec37eac12d953b99a76ced8b800be47bde5e1c122626690"
   }
  }
 },
 "nbformat": 4,
 "nbformat_minor": 1
}
